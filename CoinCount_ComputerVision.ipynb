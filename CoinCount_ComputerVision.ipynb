{
  "cells": [
    {
      "cell_type": "markdown",
      "metadata": {
        "id": "yJ8H_OupGfN1"
      },
      "source": [
        "# Importing Required Libraries\n"
      ]
    },
    {
      "cell_type": "code",
      "execution_count": 5,
      "metadata": {
        "id": "3BFY3T0ZGVAp"
      },
      "outputs": [],
      "source": [
        "import numpy as np # linear algebra\n",
        "import pandas as pd # data processing, CSV file I/O (e.g. pd.read_csv)\n",
        "import matplotlib.pyplot as plt\n",
        "import tensorflow as tf\n",
        "from tensorflow import keras\n",
        "import cv2\n",
        "import seaborn as sns\n",
        "import glob\n",
        "import xml.etree.ElementTree as ET\n",
        "from PIL import Image\n",
        "import os\n",
        "import shutil"
      ]
    },
    {
      "cell_type": "markdown",
      "metadata": {
        "id": "EJVON78yTjHT"
      },
      "source": [
        "Importing Google Drive"
      ]
    },
    {
      "cell_type": "code",
      "execution_count": null,
      "metadata": {
        "colab": {
          "base_uri": "https://localhost:8080/"
        },
        "id": "jRTTeidFTlKW",
        "outputId": "4aa3e35c-1620-4361-db5d-9a7d521ccebf"
      },
      "outputs": [
        {
          "name": "stdout",
          "output_type": "stream",
          "text": [
            "Mounted at /content/drive\n"
          ]
        }
      ],
      "source": [
        "from google.colab import drive\n",
        "drive.mount('/content/drive')"
      ]
    },
    {
      "cell_type": "markdown",
      "metadata": {
        "id": "KparYCjyGmkd"
      },
      "source": [
        "# Dataset\n"
      ]
    },
    {
      "cell_type": "markdown",
      "metadata": {
        "id": "j4THe-YFGoU4"
      },
      "source": [
        "The dataset we are using is a mix of ..."
      ]
    },
    {
      "cell_type": "markdown",
      "metadata": {
        "id": "zppyPJjmHYNY"
      },
      "source": [
        "Naming structure for the files is as follows,\n",
        "\n",
        "04-P\n",
        "\n",
        "xx - n\n",
        "\n",
        "xx- Image number\n",
        "n - Uploader (G - Ginnie, P - Pocholo)\n",
        "\n",
        "\n",
        "\n"
      ]
    },
    {
      "cell_type": "markdown",
      "metadata": {
        "id": "wejHN90KTwXy"
      },
      "source": [
        "## Dataset Preparation"
      ]
    },
    {
      "cell_type": "markdown",
      "metadata": {
        "id": "4_BH1iNoVg3_"
      },
      "source": [
        "Name directories inside google drive"
      ]
    },
    {
      "cell_type": "code",
      "execution_count": 6,
      "metadata": {
        "id": "dFQCM8H9VKZl"
      },
      "outputs": [],
      "source": [
        "# Google Drive Version\n",
        "# label_dir = \"/content/drive/MyDrive/IAT481/CV_Proj/labels/\"\n",
        "# images_dir = \"/content/drive/MyDrive/IAT481/CV_Proj/images/\"\n",
        "\n",
        "# Local Version\n",
        "label_dir = \"C:\\\\Users\\\\Pocholo\\\\Desktop\\\\481\\\\CV_Project\\\\labels\\\\\"\n",
        "images_dir = \"C:\\\\Users\\\\Pocholo\\\\Desktop\\\\481\\\\CV_Project\\\\images\\\\\""
      ]
    },
    {
      "cell_type": "code",
      "execution_count": 10,
      "metadata": {
        "id": "yY3hLRuFVjDn"
      },
      "outputs": [
        {
          "name": "stdout",
          "output_type": "stream",
          "text": [
            "01-G.jpg\n",
            "01-P.jpg\n",
            "02-G.jpg\n",
            "02-P.jpg\n",
            "03-G.jpg\n",
            "03-P.jpg\n",
            "04-G.jpg\n",
            "04-P.jpg\n",
            "05-G.jpg\n",
            "05-P.jpg\n",
            "06-G.jpg\n",
            "06-P.jpg\n",
            "07-G.jpg\n",
            "07-P.jpg\n",
            "08-G.jpg\n",
            "08-P.jpg\n",
            "09-G.jpg\n",
            "09-P.jpg\n",
            "10-G.jpg\n",
            "10-P.jpg\n",
            "11-G.jpg\n",
            "11-p.jpg\n",
            "12-G.jpg\n",
            "12-p.jpg\n",
            "13-G.jpg\n",
            "13-p.jpg\n",
            "14-G.jpg\n",
            "14-P.jpg\n",
            "15-G.jpg\n",
            "15-P.jpg\n",
            "16-G.jpg\n",
            "16-P.jpg\n",
            "17-G.jpg\n",
            "17-P.jpg\n",
            "18-G.jpg\n",
            "18-P.jpg\n",
            "19-G.jpg\n",
            "19-P.jpg\n",
            "20-G.jpg\n",
            "20-P.jpg\n",
            "21-G.jpg\n",
            "21-P.jpg\n",
            "22-G.jpg\n",
            "22-P.jpg\n",
            "23-G.jpg\n",
            "23-P.jpg\n",
            "24-G.jpg\n",
            "24-P.jpg\n",
            "25-G.jpg\n",
            "25-P.jpg\n",
            "26-G.jpg\n",
            "26-P.jpg\n",
            "27-G.jpg\n",
            "27-P.jpg\n",
            "28-G.jpg\n",
            "28-P.jpg\n",
            "29-G.jpg\n",
            "29-P.jpg\n",
            "30-G.jpg\n",
            "30-P.jpg\n",
            "01-G.txt\n",
            "01-P.txt\n",
            "02-G.txt\n",
            "02-P.txt\n",
            "03-G.txt\n",
            "03-P.txt\n",
            "04-G.txt\n",
            "04-P.txt\n",
            "05-G.txt\n",
            "05-P.txt\n",
            "06-G.txt\n",
            "06-P.txt\n",
            "07-G.txt\n",
            "07-P.txt\n",
            "08-G.txt\n",
            "08-P.txt\n",
            "09-G.txt\n",
            "09-P.txt\n",
            "10-G.txt\n",
            "10-P.txt\n",
            "11-G.txt\n",
            "11-p.txt\n",
            "12-G.txt\n",
            "12-p.txt\n",
            "13-G.txt\n",
            "13-p.txt\n",
            "14-G.txt\n",
            "14-P.txt\n",
            "15-G.txt\n",
            "15-P.txt\n",
            "16-G.txt\n",
            "16-P.txt\n",
            "17-G.txt\n",
            "17-P.txt\n",
            "18-G.txt\n",
            "18-P.txt\n",
            "19-G.txt\n",
            "19-P.txt\n",
            "20-G.txt\n",
            "20-P.txt\n",
            "21-G.txt\n",
            "21-P.txt\n",
            "22-G.txt\n",
            "22-P.txt\n",
            "23-G.txt\n",
            "23-P.txt\n",
            "24-G.txt\n",
            "24-P.txt\n",
            "25-G.txt\n",
            "25-P.txt\n",
            "26-G.txt\n",
            "26-P.txt\n",
            "27-G.txt\n",
            "27-P.txt\n",
            "28-G.txt\n",
            "28-P.txt\n",
            "29-G.txt\n",
            "29-P.txt\n",
            "30-G.txt\n",
            "30-P.txt\n"
          ]
        }
      ],
      "source": [
        "# I ran this once to clean up file names (Remove label studio unique ID)\n",
        "#\n",
        "# for file in os.listdir(label_dir):\n",
        "#     if file.endswith(\".txt\"):\n",
        "#         test = file.split(\"-\")\n",
        "#         oldName = label_dir + file;\n",
        "#         newName = label_dir + test[1] + \"-\" + test[2]\n",
        "#         os.rename(oldName,newName)\n",
        "#         # print(file)\n",
        "\n",
        "# for file in os.listdir(images_dir):\n",
        "#     if file.endswith(\".jpg\"):\n",
        "#         test = file.split(\"-\")\n",
        "#         oldName = images_dir + file;\n",
        "#         newName = images_dir + test[1] + \"-\" + test[2]\n",
        "#         os.rename(oldName, newName)\n",
        "\n",
        "for file in os.listdir(images_dir):\n",
        "    print(file)\n",
        "\n",
        "for file in os.listdir(label_dir):\n",
        "    print(file)"
      ]
    },
    {
      "cell_type": "markdown",
      "metadata": {},
      "source": [
        "Next step is to split the data into training and valuation,\n",
        "\n",
        "Per instructions we need to use 20/10 split for each dataset, to achieve this I used every picture divisible by 3 (30 images = 10 per person)"
      ]
    },
    {
      "cell_type": "code",
      "execution_count": 7,
      "metadata": {},
      "outputs": [],
      "source": [
        "images_dir_train = \"C:\\\\Users\\\\Pocholo\\\\Desktop\\\\481\\\\CV_Project\\\\images\\\\train\\\\\"\n",
        "images_dir_val = \"C:\\\\Users\\\\Pocholo\\\\Desktop\\\\481\\\\CV_Project\\\\images\\\\val\\\\\"\n",
        "\n",
        "label_dir_train = \"C:\\\\Users\\\\Pocholo\\\\Desktop\\\\481\\\\CV_Project\\\\labels\\\\train\\\\\"\n",
        "label_dir_val = \"C:\\\\Users\\\\Pocholo\\\\Desktop\\\\481\\\\CV_Project\\\\labels\\\\val\\\\\"\n"
      ]
    },
    {
      "cell_type": "code",
      "execution_count": null,
      "metadata": {},
      "outputs": [],
      "source": [
        "for file in os.listdir(images_dir):\n",
        "    if file.endswith(\".jpg\") and int(file.split(\"-\")[0]) % 3 == 0:\n",
        "        os.rename(images_dir + file, images_dir_val + file)\n",
        "    else:\n",
        "        os.rename(images_dir + file, images_dir_train + file)\n",
        "        \n",
        "for file in os.listdir(label_dir):\n",
        "    if file.endswith(\".txt\") and int(file.split(\"-\")[0]) % 3 == 0:\n",
        "        os.rename(label_dir + file, label_dir_val + file)\n",
        "    else:\n",
        "        os.rename(label_dir + file, label_dir_train + file)"
      ]
    },
    {
      "cell_type": "code",
      "execution_count": 9,
      "metadata": {},
      "outputs": [
        {
          "data": {
            "text/html": [
              "<div>\n",
              "<style scoped>\n",
              "    .dataframe tbody tr th:only-of-type {\n",
              "        vertical-align: middle;\n",
              "    }\n",
              "\n",
              "    .dataframe tbody tr th {\n",
              "        vertical-align: top;\n",
              "    }\n",
              "\n",
              "    .dataframe thead th {\n",
              "        text-align: right;\n",
              "    }\n",
              "</style>\n",
              "<table border=\"1\" class=\"dataframe\">\n",
              "  <thead>\n",
              "    <tr style=\"text-align: right;\">\n",
              "      <th></th>\n",
              "      <th>name</th>\n",
              "      <th>label</th>\n",
              "      <th>width</th>\n",
              "      <th>height</th>\n",
              "      <th>x</th>\n",
              "      <th>y</th>\n",
              "    </tr>\n",
              "  </thead>\n",
              "  <tbody>\n",
              "    <tr>\n",
              "      <th>0</th>\n",
              "      <td>01-G.txt</td>\n",
              "      <td>5</td>\n",
              "      <td>0.345558272208639</td>\n",
              "      <td>0.2616136919315404\\n</td>\n",
              "      <td>0.5639771801140994</td>\n",
              "      <td>0.2506112469437653</td>\n",
              "    </tr>\n",
              "    <tr>\n",
              "      <th>1</th>\n",
              "      <td>01-G.txt</td>\n",
              "      <td>1</td>\n",
              "      <td>0.3162184189079055</td>\n",
              "      <td>0.22982885085574584\\n</td>\n",
              "      <td>0.47758761206193967</td>\n",
              "      <td>0.6821515892420539</td>\n",
              "    </tr>\n",
              "    <tr>\n",
              "      <th>2</th>\n",
              "      <td>01-P.txt</td>\n",
              "      <td>3</td>\n",
              "      <td>0.11648</td>\n",
              "      <td>0.22200000000000003\\n</td>\n",
              "      <td>0.09984</td>\n",
              "      <td>0.505</td>\n",
              "    </tr>\n",
              "    <tr>\n",
              "      <th>3</th>\n",
              "      <td>01-P.txt</td>\n",
              "      <td>2</td>\n",
              "      <td>0.13624000000000006</td>\n",
              "      <td>0.26\\n</td>\n",
              "      <td>0.23868000000000003</td>\n",
              "      <td>0.496</td>\n",
              "    </tr>\n",
              "    <tr>\n",
              "      <th>4</th>\n",
              "      <td>01-P.txt</td>\n",
              "      <td>0</td>\n",
              "      <td>0.10608000000000004</td>\n",
              "      <td>0.1979999999999999\\n</td>\n",
              "      <td>0.37439999999999996</td>\n",
              "      <td>0.49700000000000005</td>\n",
              "    </tr>\n",
              "    <tr>\n",
              "      <th>...</th>\n",
              "      <td>...</td>\n",
              "      <td>...</td>\n",
              "      <td>...</td>\n",
              "      <td>...</td>\n",
              "      <td>...</td>\n",
              "      <td>...</td>\n",
              "    </tr>\n",
              "    <tr>\n",
              "      <th>5588</th>\n",
              "      <td>toonie97_jpeg.rf.993d5be04a3903817914d36aca11e...</td>\n",
              "      <td>5</td>\n",
              "      <td>1</td>\n",
              "      <td>0.9671875</td>\n",
              "      <td>0.5</td>\n",
              "      <td>0.48359375</td>\n",
              "    </tr>\n",
              "    <tr>\n",
              "      <th>5589</th>\n",
              "      <td>toonie97_jpeg.rf.a24ff2bf90f52ded6695e3bf63b8c...</td>\n",
              "      <td>5</td>\n",
              "      <td>0.94375</td>\n",
              "      <td>0.9171875</td>\n",
              "      <td>0.471875</td>\n",
              "      <td>0.45859375</td>\n",
              "    </tr>\n",
              "    <tr>\n",
              "      <th>5590</th>\n",
              "      <td>toonie9_jpeg.rf.150e384a229f4e3b39dfb760fec311...</td>\n",
              "      <td>5</td>\n",
              "      <td>0.94921875</td>\n",
              "      <td>0.92890625</td>\n",
              "      <td>0.475</td>\n",
              "      <td>0.4765625</td>\n",
              "    </tr>\n",
              "    <tr>\n",
              "      <th>5591</th>\n",
              "      <td>toonie9_jpeg.rf.4b2fee7a8a37268dfb557fd6150ed9...</td>\n",
              "      <td>5</td>\n",
              "      <td>1</td>\n",
              "      <td>1</td>\n",
              "      <td>0.5</td>\n",
              "      <td>0.5</td>\n",
              "    </tr>\n",
              "    <tr>\n",
              "      <th>5592</th>\n",
              "      <td>toonie9_jpeg.rf.e7ecb5fe0cea988a40542d8f8792a3...</td>\n",
              "      <td>5</td>\n",
              "      <td>1</td>\n",
              "      <td>1</td>\n",
              "      <td>0.5</td>\n",
              "      <td>0.5</td>\n",
              "    </tr>\n",
              "  </tbody>\n",
              "</table>\n",
              "<p>5593 rows × 6 columns</p>\n",
              "</div>"
            ],
            "text/plain": [
              "                                                   name label  \\\n",
              "0                                              01-G.txt     5   \n",
              "1                                              01-G.txt     1   \n",
              "2                                              01-P.txt     3   \n",
              "3                                              01-P.txt     2   \n",
              "4                                              01-P.txt     0   \n",
              "...                                                 ...   ...   \n",
              "5588  toonie97_jpeg.rf.993d5be04a3903817914d36aca11e...     5   \n",
              "5589  toonie97_jpeg.rf.a24ff2bf90f52ded6695e3bf63b8c...     5   \n",
              "5590  toonie9_jpeg.rf.150e384a229f4e3b39dfb760fec311...     5   \n",
              "5591  toonie9_jpeg.rf.4b2fee7a8a37268dfb557fd6150ed9...     5   \n",
              "5592  toonie9_jpeg.rf.e7ecb5fe0cea988a40542d8f8792a3...     5   \n",
              "\n",
              "                    width                 height                    x  \\\n",
              "0       0.345558272208639   0.2616136919315404\\n   0.5639771801140994   \n",
              "1      0.3162184189079055  0.22982885085574584\\n  0.47758761206193967   \n",
              "2                 0.11648  0.22200000000000003\\n              0.09984   \n",
              "3     0.13624000000000006                 0.26\\n  0.23868000000000003   \n",
              "4     0.10608000000000004   0.1979999999999999\\n  0.37439999999999996   \n",
              "...                   ...                    ...                  ...   \n",
              "5588                    1              0.9671875                  0.5   \n",
              "5589              0.94375              0.9171875             0.471875   \n",
              "5590           0.94921875             0.92890625                0.475   \n",
              "5591                    1                      1                  0.5   \n",
              "5592                    1                      1                  0.5   \n",
              "\n",
              "                        y  \n",
              "0      0.2506112469437653  \n",
              "1      0.6821515892420539  \n",
              "2                   0.505  \n",
              "3                   0.496  \n",
              "4     0.49700000000000005  \n",
              "...                   ...  \n",
              "5588           0.48359375  \n",
              "5589           0.45859375  \n",
              "5590            0.4765625  \n",
              "5591                  0.5  \n",
              "5592                  0.5  \n",
              "\n",
              "[5593 rows x 6 columns]"
            ]
          },
          "execution_count": 9,
          "metadata": {},
          "output_type": "execute_result"
        }
      ],
      "source": [
        "df = {'name': [],\n",
        "      'label': [],\n",
        "      'width': [],\n",
        "      'height': [],\n",
        "      'x': [],\n",
        "      'y': [],\n",
        "     }\n",
        "\n",
        "test = {'holder': []}\n",
        "\n",
        "for file in os.listdir(label_dir_train):\n",
        "    if file.endswith(\".txt\"):\n",
        "        content = open(label_dir_train + file)\n",
        "        readContent = content.readlines()\n",
        "        for line in readContent:\n",
        "            clean = line.split(\" \")\n",
        "            df['name'].append(file)\n",
        "            df['label'].append(clean[0])\n",
        "            df['x'].append(clean[1])\n",
        "            df['y'].append(clean[2])\n",
        "            df['width'].append(clean[3])\n",
        "            df['height'].append(clean[4])\n",
        "\n",
        "\n",
        "\n",
        "val = pd.DataFrame(df)\n",
        "val\n"
      ]
    },
    {
      "cell_type": "markdown",
      "metadata": {
        "id": "Tai_1GH7ClJY"
      },
      "source": [
        "# YOLO Training\n"
      ]
    },
    {
      "cell_type": "code",
      "execution_count": 10,
      "metadata": {
        "id": "4CfvwtL7XSeq"
      },
      "outputs": [],
      "source": [
        "import ultralytics\n",
        "from ultralytics import YOLO"
      ]
    },
    {
      "cell_type": "code",
      "execution_count": 11,
      "metadata": {
        "id": "3pULH1uBCxo-"
      },
      "outputs": [],
      "source": [
        "model = YOLO('yolov8s.pt')"
      ]
    },
    {
      "cell_type": "code",
      "execution_count": 12,
      "metadata": {
        "colab": {
          "base_uri": "https://localhost:8080/"
        },
        "id": "S7UR4FY0DDYc",
        "outputId": "0b8b51c3-fcb2-42b7-9257-6474fbf409a8"
      },
      "outputs": [
        {
          "name": "stdout",
          "output_type": "stream",
          "text": [
            "Writing config.yaml\n"
          ]
        }
      ],
      "source": [
        "%%writefile config.yaml\n",
        "\n",
        "# Google Drive\n",
        "# path: /content/drive/MyDrive/IAT481/CV_Proj/\n",
        "# train: /content/drive/MyDrive/IAT481/CV_Proj/images/\n",
        "# val: /content/drive/MyDrive/IAT481/CV_Proj/images/\n",
        "\n",
        "# Local\n",
        "path: C:\\\\Users\\\\Pocholo\\\\Desktop\\\\481\\\\CV_Project\\\\\n",
        "train: C:\\\\Users\\\\Pocholo\\\\Desktop\\\\481\\\\CV_Project\\\\images\\\\train\\\\\n",
        "val: C:\\\\Users\\\\Pocholo\\\\Desktop\\\\481\\\\CV_Project\\\\images\\\\val\\\\\n",
        "\n",
        "# Classes\n",
        "nc: 6\n",
        "\n",
        "# Class Names\n",
        "names:\n",
        "  0: Dime\n",
        "  1: Loonie\n",
        "  2: Nickel\n",
        "  3: Penny\n",
        "  4: Quarter\n",
        "  5: Toonie"
      ]
    },
    {
      "cell_type": "code",
      "execution_count": 14,
      "metadata": {},
      "outputs": [
        {
          "data": {
            "text/plain": [
              "False"
            ]
          },
          "execution_count": 14,
          "metadata": {},
          "output_type": "execute_result"
        }
      ],
      "source": [
        "import torch\n",
        "torch.cuda.is_available()"
      ]
    },
    {
      "cell_type": "code",
      "execution_count": null,
      "metadata": {
        "colab": {
          "base_uri": "https://localhost:8080/"
        },
        "id": "yCQ6DG5EFaNN",
        "outputId": "1ec49e1d-e580-4444-ede5-a6c7f6b474de"
      },
      "outputs": [],
      "source": [
        "model.train(data=\"config.yaml\",epochs=3,patience=5,batch=8, lr0=0.0005,imgsz=640)"
      ]
    }
  ],
  "metadata": {
    "colab": {
      "provenance": []
    },
    "kernelspec": {
      "display_name": "Python 3",
      "name": "python3"
    },
    "language_info": {
      "codemirror_mode": {
        "name": "ipython",
        "version": 3
      },
      "file_extension": ".py",
      "mimetype": "text/x-python",
      "name": "python",
      "nbconvert_exporter": "python",
      "pygments_lexer": "ipython3",
      "version": "3.10.13"
    }
  },
  "nbformat": 4,
  "nbformat_minor": 0
}
